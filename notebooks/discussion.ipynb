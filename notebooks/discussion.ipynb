{
 "cells": [
  {
   "cell_type": "markdown",
   "metadata": {},
   "source": [
    "# Slackbot Functions\n",
    "\n",
    "This notebook defines a set of functions that will be exposed by the [slack_bot](slack_bot.ipynb) notebook when run. Cells executed in this notebook will be immediately available to Slack users."
   ]
  },
  {
   "cell_type": "markdown",
   "metadata": {},
   "source": [
    "To start, we need to make the kernel associated with this ntoebook known to the slack bot notebook. The simplest way to do this is via the local filesystem."
   ]
  },
  {
   "cell_type": "code",
   "execution_count": 1,
   "metadata": {
    "collapsed": false
   },
   "outputs": [],
   "source": [
    "ip = get_ipython()"
   ]
  },
  {
   "cell_type": "code",
   "execution_count": 2,
   "metadata": {
    "collapsed": false
   },
   "outputs": [],
   "source": [
    "!rm -f /tmp/defrag_demo\n",
    "!ln -s {ip.kernel.config['IPKernelApp']['connection_file']} /tmp/defrag_demo"
   ]
  },
  {
   "cell_type": "markdown",
   "metadata": {},
   "source": [
    "We'll use the IPython auto call feature to avoid the need for parentheses on all invocations. We'll also avoid printing what the call would have been."
   ]
  },
  {
   "cell_type": "code",
   "execution_count": 3,
   "metadata": {
    "collapsed": false
   },
   "outputs": [
    {
     "name": "stdout",
     "output_type": "stream",
     "text": [
      "Automatic calling is: Full\n"
     ]
    }
   ],
   "source": [
    "%autocall 2"
   ]
  },
  {
   "cell_type": "code",
   "execution_count": 4,
   "metadata": {
    "collapsed": true
   },
   "outputs": [],
   "source": [
    "ip.show_rewritten_input = False"
   ]
  },
  {
   "cell_type": "markdown",
   "metadata": {},
   "source": [
    "Import common libs for convenience."
   ]
  },
  {
   "cell_type": "code",
   "execution_count": 5,
   "metadata": {
    "collapsed": true
   },
   "outputs": [],
   "source": [
    "%matplotlib inline"
   ]
  },
  {
   "cell_type": "code",
   "execution_count": 6,
   "metadata": {
    "collapsed": true
   },
   "outputs": [],
   "source": [
    "import matplotlib.pyplot as plt\n",
    "import pandas as pd\n",
    "import seaborn as sns\n",
    "import numpy as np\n",
    "import requests\n",
    "import json\n",
    "import datetime"
   ]
  },
  {
   "cell_type": "markdown",
   "metadata": {},
   "source": [
    "Define a function that prints other functions so users in Slack know what they can say."
   ]
  },
  {
   "cell_type": "code",
   "execution_count": 7,
   "metadata": {
    "collapsed": true
   },
   "outputs": [],
   "source": [
    "def hi():\n",
    "    '''Prints available functions.'''\n",
    "    avail = []\n",
    "    print('Hi there. Try running one of these:\\n')\n",
    "    exclude = ('exit', 'quit', 'get_ipython', 'hi')\n",
    "    for key, value in ip.user_ns.items():\n",
    "        if callable(value) and not key.startswith('_') and not key in exclude:\n",
    "            avail.append(key)\n",
    "    print(', '.join(avail))"
   ]
  },
  {
   "cell_type": "markdown",
   "metadata": {},
   "source": [
    "Now define some demo functions"
   ]
  },
  {
   "cell_type": "code",
   "execution_count": 8,
   "metadata": {
    "collapsed": true
   },
   "outputs": [],
   "source": [
    "def plot_random(n=5):\n",
    "    '''Draws N series with N points in each. Just as a demo.'''\n",
    "    data = np.random.rand(n,n)\n",
    "    df = pd.DataFrame(data)\n",
    "    df.plot()"
   ]
  },
  {
   "cell_type": "code",
   "execution_count": 9,
   "metadata": {
    "collapsed": true
   },
   "outputs": [],
   "source": [
    "def plot_tips(hue='smoker'):\n",
    "    '''\n",
    "    Plots features of the tip data set as a pair plot colored by one column.\n",
    "    \n",
    "    Available columns:\n",
    "    'total_bill', 'tip', 'sex', 'smoker', 'day', 'time', 'size'\n",
    "    '''\n",
    "    tips = sns.load_dataset('tips')\n",
    "    sns.pairplot(tips, hue=hue)"
   ]
  },
  {
   "cell_type": "markdown",
   "metadata": {
    "collapsed": true
   },
   "source": [
    "Define functions that use some remote APIs."
   ]
  },
  {
   "cell_type": "code",
   "execution_count": 29,
   "metadata": {
    "collapsed": true
   },
   "outputs": [],
   "source": [
    "_API_KEY = 'XXXXXXXXXXXXXXXXXXXXX'"
   ]
  },
  {
   "cell_type": "code",
   "execution_count": 11,
   "metadata": {
    "collapsed": false
   },
   "outputs": [],
   "source": [
    "def _meetups(topic):\n",
    "    r = requests.get(\"https://api.meetup.com/2/open_events\", params={'topic': topic, 'key': _API_KEY})    \n",
    "    r.raise_for_status()\n",
    "    results = r.json()['results']\n",
    "    df = pd.DataFrame(results)\n",
    "    df['localtime'] = pd.to_datetime(df.time+df.utc_offset, unit='ms')\n",
    "    return df, results"
   ]
  },
  {
   "cell_type": "code",
   "execution_count": 26,
   "metadata": {
    "collapsed": true
   },
   "outputs": [],
   "source": [
    "def bluemix_meetups(limit=10):\n",
    "    '''\n",
    "    Show upcoming Bluemix meetups in a list.\n",
    "    '''\n",
    "    df, results = _meetups('bluemix')\n",
    "    msgs = []\n",
    "    for i, result in enumerate(results[:limit]):\n",
    "        tmpl = '{}. <{result[event_url]}|{result[name]}>'\n",
    "        if 'venue' in result:\n",
    "            tmpl += ' at <https://www.google.com/maps/@{result[venue][lat]},{result[venue][lon]},17z|{result[venue][city]}, {result[venue][country]}>'\n",
    "        tmpl += ' ({result[yes_rsvp_count]} :bust_in_silhouette:)'\n",
    "\n",
    "        msgs.append(tmpl.format(i+1, result=result))\n",
    "        \n",
    "    print('Here are the next {} upcoming Bluemix meetups around the world:'.format(limit))\n",
    "    print('\\n'.join(msgs))"
   ]
  },
  {
   "cell_type": "code",
   "execution_count": 13,
   "metadata": {
    "collapsed": true
   },
   "outputs": [],
   "source": [
    "def bluemix_rsvps(pattern=None):\n",
    "    '''\n",
    "    Show affirmative RSVP growth for the Bluemix meetup over time.\n",
    "    '''\n",
    "    df, _ = _meetups('bluemix')\n",
    "    if pattern is not None:\n",
    "        # sublime/atom-like matching\n",
    "        regex = ''.join(ch+'.*' for ch in pattern)\n",
    "        df = df[df.name.str.contains(regex, case=False)]\n",
    "    if not len(df):\n",
    "        print(\"Sorry. There are no Bluemix meetup names matching `{}`.\".format(pattern))\n",
    "\n",
    "    # take the first if multiple matches\n",
    "    event_id = df.iloc[0]['id']\n",
    "    target_time = pd.to_datetime(df.iloc[0]['time'], unit='ms')\n",
    "    \n",
    "    # get rvps without paging (capped at API limit per request)\n",
    "    r = requests.get(\"https://api.meetup.com/2/rsvps\", {'event_id': event_id, 'key': _API_KEY, 'rsvp': 'yes'})\n",
    "    results = r.json()['results']\n",
    "    \n",
    "    # convert to datetime\n",
    "    dts = pd.to_datetime([r['created'] for r in results], unit='ms')\n",
    "    events_df = pd.DataFrame(index=dts, columns=['RSVPs'])\n",
    "    # treat every yes as a +1, don't look for users that later changed their mind for now\n",
    "    events_df['RSVPs'] = 1\n",
    "    events_df = events_df.sort().cumsum()\n",
    "    \n",
    "    # plot and put a vline at the scheduled datetime of the meetup\n",
    "    ax = events_df.plot(figsize=(10,5))\n",
    "    ax.axvline(x=target_time.to_datetime(), linewidth=2, color='k')\n",
    "    ax.set_ylabel('Yes RSVPs')\n",
    "    ax.set_xlabel('Date/time (UTC)')\n",
    "    ax.set_ylim(top=events_df.tail(1)['RSVPs'].get(0)+5)\n",
    "    ax.set_xlim(right=target_time.to_datetime()+datetime.timedelta(days=2))\n",
    "    _ = ax.set_title(results[0]['event']['name'], y=1.08, loc='center')"
   ]
  }
 ],
 "metadata": {
  "kernelspec": {
   "display_name": "Python 3",
   "language": "python",
   "name": "python3"
  },
  "language_info": {
   "codemirror_mode": {
    "name": "ipython",
    "version": 3
   },
   "file_extension": ".py",
   "mimetype": "text/x-python",
   "name": "python",
   "nbconvert_exporter": "python",
   "pygments_lexer": "ipython3",
   "version": "3.4.3"
  }
 },
 "nbformat": 4,
 "nbformat_minor": 0
}
