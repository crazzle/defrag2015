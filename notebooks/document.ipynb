{
 "cells": [
  {
   "cell_type": "markdown",
   "metadata": {
    "urth": {
     "dashboard": {
      "layout": {
       "col": 0,
       "height": 4,
       "row": 0,
       "width": 12
      }
     }
    }
   },
   "source": [
    "# Upcoming Meetups\n",
    "\n",
    "This notebook queries [meetup.com](https://meetup.com) for upcoming events matching a topic and having at least 3 RSVPs. It then gives a summary of those meetups in tabular and map form."
   ]
  },
  {
   "cell_type": "markdown",
   "metadata": {
    "urth": {
     "dashboard": {
      "hidden": true
     }
    }
   },
   "source": [
    " To run this notebook:\n",
    "\n",
    "0. `pip install folium pandas numpy requests` if you haven't already.\n",
    "1. Set your API key value\n",
    "2. Set your search topic.\n",
    "3. Run All."
   ]
  },
  {
   "cell_type": "code",
   "execution_count": null,
   "metadata": {
    "collapsed": true,
    "urth": {
     "dashboard": {
      "hidden": true
     }
    }
   },
   "outputs": [],
   "source": [
    "API_KEY = 'XXXXXXXXXXXXXXXXXXXXXXXXXXXXXX'\n",
    "TOPIC = 'bluemix'"
   ]
  },
  {
   "cell_type": "code",
   "execution_count": null,
   "metadata": {
    "collapsed": false,
    "urth": {
     "dashboard": {
      "hidden": true
     }
    }
   },
   "outputs": [],
   "source": [
    "import requests\n",
    "import numpy as np\n",
    "import pandas as pd\n",
    "import folium\n",
    "from IPython.display import HTML"
   ]
  },
  {
   "cell_type": "code",
   "execution_count": null,
   "metadata": {
    "collapsed": true,
    "urth": {
     "dashboard": {
      "hidden": true
     }
    }
   },
   "outputs": [],
   "source": [
    "pd.set_option('display.max_colwidth', 500)"
   ]
  },
  {
   "cell_type": "markdown",
   "metadata": {
    "urth": {
     "dashboard": {
      "hidden": true
     }
    }
   },
   "source": [
    "Request the open events from the Meetup.com API."
   ]
  },
  {
   "cell_type": "code",
   "execution_count": null,
   "metadata": {
    "collapsed": false,
    "urth": {
     "dashboard": {
      "hidden": true
     }
    }
   },
   "outputs": [],
   "source": [
    "r = requests.get(\"https://api.meetup.com/2/open_events\", params={'topic': TOPIC, 'key': API_KEY})"
   ]
  },
  {
   "cell_type": "code",
   "execution_count": null,
   "metadata": {
    "collapsed": false,
    "urth": {
     "dashboard": {
      "hidden": true
     }
    }
   },
   "outputs": [],
   "source": [
    "r.raise_for_status()"
   ]
  },
  {
   "cell_type": "code",
   "execution_count": null,
   "metadata": {
    "collapsed": false,
    "urth": {
     "dashboard": {
      "hidden": true
     }
    }
   },
   "outputs": [],
   "source": [
    "df = pd.DataFrame(r.json()['results'])"
   ]
  },
  {
   "cell_type": "markdown",
   "metadata": {
    "urth": {
     "dashboard": {
      "hidden": true
     }
    }
   },
   "source": [
    "Convert the times since epoch in $\\mu s$ to datetime objects, accounting for timezone offset. Hereafter, the times will be local to the meetup venue."
   ]
  },
  {
   "cell_type": "code",
   "execution_count": null,
   "metadata": {
    "collapsed": false,
    "urth": {
     "dashboard": {
      "hidden": true
     }
    }
   },
   "outputs": [],
   "source": [
    "df['localtime'] = pd.to_datetime(df.time+df.utc_offset, unit='ms')"
   ]
  },
  {
   "cell_type": "markdown",
   "metadata": {
    "urth": {
     "dashboard": {
      "hidden": true
     }
    }
   },
   "source": [
    "Create a human readable description of the location down to the city level, if possible."
   ]
  },
  {
   "cell_type": "code",
   "execution_count": null,
   "metadata": {
    "collapsed": true,
    "urth": {
     "dashboard": {
      "hidden": true
     }
    }
   },
   "outputs": [],
   "source": [
    "def text_location(venue):\n",
    "    '''\n",
    "    Return city, state, country, omitting any piece that isn't available.\n",
    "    '''\n",
    "    loc = []\n",
    "    if pd.isnull(venue): return ''\n",
    "    if 'city' in venue:\n",
    "        loc.append(venue['city'])\n",
    "    if 'state' in venue:\n",
    "        loc.append(venue['state'])\n",
    "    if 'country' in venue:\n",
    "        loc.append(venue['country'].upper())\n",
    "    return ', '.join(loc)"
   ]
  },
  {
   "cell_type": "code",
   "execution_count": null,
   "metadata": {
    "collapsed": false,
    "urth": {
     "dashboard": {
      "hidden": true
     }
    }
   },
   "outputs": [],
   "source": [
    "df['location'] = df.venue.apply(text_location)"
   ]
  },
  {
   "cell_type": "markdown",
   "metadata": {
    "urth": {
     "dashboard": {
      "hidden": true
     }
    }
   },
   "source": [
    "Turn the event name into a link to its page on meetup.com."
   ]
  },
  {
   "cell_type": "code",
   "execution_count": null,
   "metadata": {
    "collapsed": false,
    "urth": {
     "dashboard": {
      "hidden": true
     }
    }
   },
   "outputs": [],
   "source": [
    "df['link_name'] = df.apply(lambda row: '<a href=\"{row[event_url]}\" target=\"_blank\">{row[name]}</a>'.format(row=row), axis=1)"
   ]
  },
  {
   "cell_type": "markdown",
   "metadata": {
    "urth": {
     "dashboard": {
      "hidden": true
     }
    }
   },
   "source": [
    "Use the HTML output feature instead of static markup so that the topic name appears."
   ]
  },
  {
   "cell_type": "code",
   "execution_count": null,
   "metadata": {
    "collapsed": false,
    "urth": {
     "dashboard": {
      "layout": {
       "col": 0,
       "height": 2,
       "row": 4,
       "width": 12
      }
     }
    }
   },
   "outputs": [],
   "source": [
    "HTML('<h2>Table of Upcoming <em>{}</em> Meetups</h2>'.format(TOPIC))"
   ]
  },
  {
   "cell_type": "code",
   "execution_count": null,
   "metadata": {
    "collapsed": false,
    "scrolled": false,
    "urth": {
     "dashboard": {
      "layout": {
       "col": 0,
       "height": 28,
       "row": 6,
       "width": 12
      }
     }
    }
   },
   "outputs": [],
   "source": [
    "HTML(df[['link_name', 'localtime', 'location', 'yes_rsvp_count']].to_html(escape=False))"
   ]
  },
  {
   "cell_type": "code",
   "execution_count": null,
   "metadata": {
    "collapsed": false,
    "urth": {
     "dashboard": {
      "layout": {
       "col": 0,
       "height": 2,
       "row": 34,
       "width": 12
      }
     }
    }
   },
   "outputs": [],
   "source": [
    "HTML('<h2>Map of Upcoming <em>{}</em> Meetups</h2>'.format(TOPIC))"
   ]
  },
  {
   "cell_type": "code",
   "execution_count": null,
   "metadata": {
    "collapsed": false,
    "urth": {
     "dashboard": {
      "hidden": true
     }
    }
   },
   "outputs": [],
   "source": [
    "def map_marker(row):\n",
    "    '''\n",
    "    Returns a dictionary with the lat/long location of an event venue as well\n",
    "    as a popup containing a link to its meetup.com page. Filters events\n",
    "    with no valid lat/long location.\n",
    "    '''\n",
    "    if pd.isnull(row['venue']): return None\n",
    "    lat = row['venue'].get('lat', 0.)\n",
    "    lon = row['venue'].get('lon', 0.)\n",
    "    if lat == 0 or lon == 0: return None\n",
    "    return dict(\n",
    "        location=[lat, lon],\n",
    "        popup=row['link_name']\n",
    "    )"
   ]
  },
  {
   "cell_type": "code",
   "execution_count": null,
   "metadata": {
    "collapsed": false,
    "urth": {
     "dashboard": {
      "hidden": true
     }
    }
   },
   "outputs": [],
   "source": [
    "m = folium.Map(location=[45, -40], zoom_start=2)"
   ]
  },
  {
   "cell_type": "code",
   "execution_count": null,
   "metadata": {
    "collapsed": false,
    "urth": {
     "dashboard": {
      "hidden": true
     }
    }
   },
   "outputs": [],
   "source": [
    "for i, row in df.iterrows():\n",
    "    marker = map_marker(row)\n",
    "    if marker:\n",
    "        m.simple_marker(**marker)"
   ]
  },
  {
   "cell_type": "code",
   "execution_count": null,
   "metadata": {
    "collapsed": true,
    "urth": {
     "dashboard": {
      "hidden": true
     }
    }
   },
   "outputs": [],
   "source": [
    "m._build_map()"
   ]
  },
  {
   "cell_type": "markdown",
   "metadata": {},
   "source": [
    "Idea: We might want show the venues of RSVPs in realtime on a map along with the locations of our meetups."
   ]
  },
  {
   "cell_type": "code",
   "execution_count": null,
   "metadata": {
    "collapsed": false,
    "urth": {
     "dashboard": {
      "layout": {
       "col": 0,
       "height": 18,
       "row": 36,
       "width": 12
      }
     }
    }
   },
   "outputs": [],
   "source": [
    "HTML('<iframe srcdoc=\"{srcdoc}\" style=\"width: 100%; height: 510px; border: none\"></iframe>'.format(srcdoc=m.HTML.replace('\"', '&quot;')))"
   ]
  }
 ],
 "metadata": {
  "kernelspec": {
   "display_name": "Python 3",
   "language": "python",
   "name": "python3"
  },
  "language_info": {
   "codemirror_mode": {
    "name": "ipython",
    "version": 3
   },
   "file_extension": ".py",
   "mimetype": "text/x-python",
   "name": "python",
   "nbconvert_exporter": "python",
   "pygments_lexer": "ipython3",
   "version": "3.4.3"
  },
  "urth": {
   "dashboard": {
    "cellMargin": 10,
    "defaultCellHeight": 20,
    "maxColumns": 12
   }
  }
 },
 "nbformat": 4,
 "nbformat_minor": 0
}
